{
  "nbformat": 4,
  "nbformat_minor": 0,
  "metadata": {
    "colab": {
      "provenance": []
    },
    "kernelspec": {
      "name": "python3",
      "display_name": "Python 3"
    },
    "language_info": {
      "name": "python"
    }
  },
  "cells": [
    {
      "cell_type": "markdown",
      "source": [
        "<h1><b>A Correlational Study of Students Mental Health based on Genealogical Factors</b></h1>\n"
      ],
      "metadata": {
        "id": "-7T3wYKv6ORt"
      }
    },
    {
      "cell_type": "markdown",
      "source": [
        "A. Importing Libraries and Dataset"
      ],
      "metadata": {
        "id": "bmQBQaxb-Cdr"
      }
    },
    {
      "cell_type": "code",
      "source": [
        "#Importing python libraries\n",
        "from pandas import DataFrame\n",
        "from sklearn import linear_model\n",
        "from sklearn.model_selection import train_test_split\n",
        "from sklearn.metrics import r2_score\n",
        "import matplotlib.pyplot as plt\n",
        "import pandas as pd\n",
        "import seaborn as sns"
      ],
      "metadata": {
        "id": "m9NmxkCe-CHC"
      },
      "execution_count": null,
      "outputs": []
    },
    {
      "cell_type": "code",
      "execution_count": null,
      "metadata": {
        "id": "BYaJn8sD5p4a"
      },
      "outputs": [],
      "source": [
        "#Importing dataset\n",
        "df = pd.read_csv(\"PREDANA-FINALS-DATASET.csv\")"
      ]
    },
    {
      "cell_type": "markdown",
      "source": [
        "B. Describing the Data"
      ],
      "metadata": {
        "id": "4u3UuGhF-X7n"
      }
    },
    {
      "cell_type": "code",
      "source": [
        "#Checking the shape of the data\n",
        "df.shape"
      ],
      "metadata": {
        "colab": {
          "base_uri": "https://localhost:8080/"
        },
        "id": "rmvVQd12-ixm",
        "outputId": "b2544fdb-e72d-485b-9919-96d0496248b9"
      },
      "execution_count": null,
      "outputs": [
        {
          "output_type": "execute_result",
          "data": {
            "text/plain": [
              "(52, 25)"
            ]
          },
          "metadata": {},
          "execution_count": 4
        }
      ]
    },
    {
      "cell_type": "code",
      "source": [
        "#Checking the types of attributes of the data\n",
        "df.dtypes"
      ],
      "metadata": {
        "colab": {
          "base_uri": "https://localhost:8080/"
        },
        "id": "M-hQSLRwBkpf",
        "outputId": "32345e06-0d51-44ee-d119-fd79d980c685"
      },
      "execution_count": null,
      "outputs": [
        {
          "output_type": "execute_result",
          "data": {
            "text/plain": [
              "AGE                          int64\n",
              "GENDER                      object\n",
              "COURSE                      object\n",
              "YEAR                         int64\n",
              "CITY                        object\n",
              "FAMILY STATUS               object\n",
              "MOTHER'S EDUCATION          object\n",
              "FATHER'S EDUCATION          object\n",
              "MONTHLY INCOME              object\n",
              "MENTAL DISORDER HISTORY     object\n",
              "Q1                           int64\n",
              "Q2                           int64\n",
              "Q3                           int64\n",
              "Q4                           int64\n",
              "Q5                           int64\n",
              "Q6                           int64\n",
              "Q7                          object\n",
              "Q8                          object\n",
              "Q9                          object\n",
              "Q10                         object\n",
              "Q11                         object\n",
              "Q12                         object\n",
              "Q13                          int64\n",
              "Q14                          int64\n",
              "Mental State               float64\n",
              "dtype: object"
            ]
          },
          "metadata": {},
          "execution_count": 5
        }
      ]
    },
    {
      "cell_type": "code",
      "source": [
        "#Checking the dataframe\n",
        "df.head(10)"
      ],
      "metadata": {
        "colab": {
          "base_uri": "https://localhost:8080/",
          "height": 818
        },
        "id": "mRthjlsgBpC5",
        "outputId": "42b3193c-3def-4a1c-bdcd-9e584d2dc9a6"
      },
      "execution_count": null,
      "outputs": [
        {
          "output_type": "execute_result",
          "data": {
            "text/plain": [
              "   AGE GENDER             COURSE  YEAR           CITY FAMILY STATUS  \\\n",
              "0   21      M       Data Science     3         Makati      Complete   \n",
              "1   21      F         Psychology     3          Pasay      Complete   \n",
              "2   23      M     Animation Tech     2         Cavite      Deceased   \n",
              "3   20      F        Accountancy     3         Manila      Complete   \n",
              "4   21      F            Nursing     3         Makati      Deceased   \n",
              "5   21      M  Civil Engineering     3         Manila     Separated   \n",
              "6   21      F         Accounting     3          Bicol      Complete   \n",
              "7   21      F       Data Science     3          Pasay      Complete   \n",
              "8   21      M       Architecture     3  Camarines Sur     Separated   \n",
              "9   20      F   Computer Science     2        Makati       Complete   \n",
              "\n",
              "  MOTHER'S EDUCATION FATHER'S EDUCATION    MONTHLY INCOME  \\\n",
              "0            College            College  More than 50,000   \n",
              "1        High School        High School  More than 50,000   \n",
              "2         Elementary         Elementary  Less than 10,000   \n",
              "3            College         Elementary  Less than 10,000   \n",
              "4        High School            College  10,000 to 15,000   \n",
              "5        High School        High School  More than 50,000   \n",
              "6            College            College  35,000 to 40,000   \n",
              "7        High School            College  10,000 to 15,000   \n",
              "8            College            College  More than 50,000   \n",
              "9        High School        High School  Less than 10,000   \n",
              "\n",
              "  MENTAL DISORDER HISTORY  ...  Q6                Q7                Q8  \\\n",
              "0                      No  ...   3     Few weeks ago     Few weeks ago   \n",
              "1                      No  ...   3  I don't remember  I don't remember   \n",
              "2                      No  ...   3      Few days ago      Few days ago   \n",
              "3                      No  ...   4      Few days ago      Few days ago   \n",
              "4                      No  ...   2  I don't remember  I don't remember   \n",
              "5                      No  ...   3     Few years ago     Few weeks ago   \n",
              "6                      No  ...   3      Few days ago     Few years ago   \n",
              "7                      No  ...   3     Few years ago    Few months ago   \n",
              "8                     Yes  ...   4     Few weeks ago     Few weeks ago   \n",
              "9                      No  ...   3     Few weeks ago      Few days ago   \n",
              "\n",
              "         Q9  Q10  Q11  Q12 Q13 Q14 Mental State  \n",
              "0        No   No  Yes   No   3   3        2.750  \n",
              "1  Not sure  Yes  Yes  Yes   4   3        2.625  \n",
              "2        No  Yes  Yes   No   1   3        2.500  \n",
              "3       Yes  Yes   No  Yes   4   2        2.375  \n",
              "4        No  Yes  Yes   No   4   2        2.375  \n",
              "5        No  Yes   No   No   4   3        2.625  \n",
              "6        No  Yes  Yes   No   3   3        2.500  \n",
              "7        No  Yes  Yes   No   3   3        2.500  \n",
              "8        No  Yes   No  Yes   3   3        2.625  \n",
              "9        No   No  Yes   No   4   3        2.875  \n",
              "\n",
              "[10 rows x 25 columns]"
            ],
            "text/html": [
              "\n",
              "  <div id=\"df-d635368b-b223-4e70-a90d-d58e9550f2e4\">\n",
              "    <div class=\"colab-df-container\">\n",
              "      <div>\n",
              "<style scoped>\n",
              "    .dataframe tbody tr th:only-of-type {\n",
              "        vertical-align: middle;\n",
              "    }\n",
              "\n",
              "    .dataframe tbody tr th {\n",
              "        vertical-align: top;\n",
              "    }\n",
              "\n",
              "    .dataframe thead th {\n",
              "        text-align: right;\n",
              "    }\n",
              "</style>\n",
              "<table border=\"1\" class=\"dataframe\">\n",
              "  <thead>\n",
              "    <tr style=\"text-align: right;\">\n",
              "      <th></th>\n",
              "      <th>AGE</th>\n",
              "      <th>GENDER</th>\n",
              "      <th>COURSE</th>\n",
              "      <th>YEAR</th>\n",
              "      <th>CITY</th>\n",
              "      <th>FAMILY STATUS</th>\n",
              "      <th>MOTHER'S EDUCATION</th>\n",
              "      <th>FATHER'S EDUCATION</th>\n",
              "      <th>MONTHLY INCOME</th>\n",
              "      <th>MENTAL DISORDER HISTORY</th>\n",
              "      <th>...</th>\n",
              "      <th>Q6</th>\n",
              "      <th>Q7</th>\n",
              "      <th>Q8</th>\n",
              "      <th>Q9</th>\n",
              "      <th>Q10</th>\n",
              "      <th>Q11</th>\n",
              "      <th>Q12</th>\n",
              "      <th>Q13</th>\n",
              "      <th>Q14</th>\n",
              "      <th>Mental State</th>\n",
              "    </tr>\n",
              "  </thead>\n",
              "  <tbody>\n",
              "    <tr>\n",
              "      <th>0</th>\n",
              "      <td>21</td>\n",
              "      <td>M</td>\n",
              "      <td>Data Science</td>\n",
              "      <td>3</td>\n",
              "      <td>Makati</td>\n",
              "      <td>Complete</td>\n",
              "      <td>College</td>\n",
              "      <td>College</td>\n",
              "      <td>More than 50,000</td>\n",
              "      <td>No</td>\n",
              "      <td>...</td>\n",
              "      <td>3</td>\n",
              "      <td>Few weeks ago</td>\n",
              "      <td>Few weeks ago</td>\n",
              "      <td>No</td>\n",
              "      <td>No</td>\n",
              "      <td>Yes</td>\n",
              "      <td>No</td>\n",
              "      <td>3</td>\n",
              "      <td>3</td>\n",
              "      <td>2.750</td>\n",
              "    </tr>\n",
              "    <tr>\n",
              "      <th>1</th>\n",
              "      <td>21</td>\n",
              "      <td>F</td>\n",
              "      <td>Psychology</td>\n",
              "      <td>3</td>\n",
              "      <td>Pasay</td>\n",
              "      <td>Complete</td>\n",
              "      <td>High School</td>\n",
              "      <td>High School</td>\n",
              "      <td>More than 50,000</td>\n",
              "      <td>No</td>\n",
              "      <td>...</td>\n",
              "      <td>3</td>\n",
              "      <td>I don't remember</td>\n",
              "      <td>I don't remember</td>\n",
              "      <td>Not sure</td>\n",
              "      <td>Yes</td>\n",
              "      <td>Yes</td>\n",
              "      <td>Yes</td>\n",
              "      <td>4</td>\n",
              "      <td>3</td>\n",
              "      <td>2.625</td>\n",
              "    </tr>\n",
              "    <tr>\n",
              "      <th>2</th>\n",
              "      <td>23</td>\n",
              "      <td>M</td>\n",
              "      <td>Animation Tech</td>\n",
              "      <td>2</td>\n",
              "      <td>Cavite</td>\n",
              "      <td>Deceased</td>\n",
              "      <td>Elementary</td>\n",
              "      <td>Elementary</td>\n",
              "      <td>Less than 10,000</td>\n",
              "      <td>No</td>\n",
              "      <td>...</td>\n",
              "      <td>3</td>\n",
              "      <td>Few days ago</td>\n",
              "      <td>Few days ago</td>\n",
              "      <td>No</td>\n",
              "      <td>Yes</td>\n",
              "      <td>Yes</td>\n",
              "      <td>No</td>\n",
              "      <td>1</td>\n",
              "      <td>3</td>\n",
              "      <td>2.500</td>\n",
              "    </tr>\n",
              "    <tr>\n",
              "      <th>3</th>\n",
              "      <td>20</td>\n",
              "      <td>F</td>\n",
              "      <td>Accountancy</td>\n",
              "      <td>3</td>\n",
              "      <td>Manila</td>\n",
              "      <td>Complete</td>\n",
              "      <td>College</td>\n",
              "      <td>Elementary</td>\n",
              "      <td>Less than 10,000</td>\n",
              "      <td>No</td>\n",
              "      <td>...</td>\n",
              "      <td>4</td>\n",
              "      <td>Few days ago</td>\n",
              "      <td>Few days ago</td>\n",
              "      <td>Yes</td>\n",
              "      <td>Yes</td>\n",
              "      <td>No</td>\n",
              "      <td>Yes</td>\n",
              "      <td>4</td>\n",
              "      <td>2</td>\n",
              "      <td>2.375</td>\n",
              "    </tr>\n",
              "    <tr>\n",
              "      <th>4</th>\n",
              "      <td>21</td>\n",
              "      <td>F</td>\n",
              "      <td>Nursing</td>\n",
              "      <td>3</td>\n",
              "      <td>Makati</td>\n",
              "      <td>Deceased</td>\n",
              "      <td>High School</td>\n",
              "      <td>College</td>\n",
              "      <td>10,000 to 15,000</td>\n",
              "      <td>No</td>\n",
              "      <td>...</td>\n",
              "      <td>2</td>\n",
              "      <td>I don't remember</td>\n",
              "      <td>I don't remember</td>\n",
              "      <td>No</td>\n",
              "      <td>Yes</td>\n",
              "      <td>Yes</td>\n",
              "      <td>No</td>\n",
              "      <td>4</td>\n",
              "      <td>2</td>\n",
              "      <td>2.375</td>\n",
              "    </tr>\n",
              "    <tr>\n",
              "      <th>5</th>\n",
              "      <td>21</td>\n",
              "      <td>M</td>\n",
              "      <td>Civil Engineering</td>\n",
              "      <td>3</td>\n",
              "      <td>Manila</td>\n",
              "      <td>Separated</td>\n",
              "      <td>High School</td>\n",
              "      <td>High School</td>\n",
              "      <td>More than 50,000</td>\n",
              "      <td>No</td>\n",
              "      <td>...</td>\n",
              "      <td>3</td>\n",
              "      <td>Few years ago</td>\n",
              "      <td>Few weeks ago</td>\n",
              "      <td>No</td>\n",
              "      <td>Yes</td>\n",
              "      <td>No</td>\n",
              "      <td>No</td>\n",
              "      <td>4</td>\n",
              "      <td>3</td>\n",
              "      <td>2.625</td>\n",
              "    </tr>\n",
              "    <tr>\n",
              "      <th>6</th>\n",
              "      <td>21</td>\n",
              "      <td>F</td>\n",
              "      <td>Accounting</td>\n",
              "      <td>3</td>\n",
              "      <td>Bicol</td>\n",
              "      <td>Complete</td>\n",
              "      <td>College</td>\n",
              "      <td>College</td>\n",
              "      <td>35,000 to 40,000</td>\n",
              "      <td>No</td>\n",
              "      <td>...</td>\n",
              "      <td>3</td>\n",
              "      <td>Few days ago</td>\n",
              "      <td>Few years ago</td>\n",
              "      <td>No</td>\n",
              "      <td>Yes</td>\n",
              "      <td>Yes</td>\n",
              "      <td>No</td>\n",
              "      <td>3</td>\n",
              "      <td>3</td>\n",
              "      <td>2.500</td>\n",
              "    </tr>\n",
              "    <tr>\n",
              "      <th>7</th>\n",
              "      <td>21</td>\n",
              "      <td>F</td>\n",
              "      <td>Data Science</td>\n",
              "      <td>3</td>\n",
              "      <td>Pasay</td>\n",
              "      <td>Complete</td>\n",
              "      <td>High School</td>\n",
              "      <td>College</td>\n",
              "      <td>10,000 to 15,000</td>\n",
              "      <td>No</td>\n",
              "      <td>...</td>\n",
              "      <td>3</td>\n",
              "      <td>Few years ago</td>\n",
              "      <td>Few months ago</td>\n",
              "      <td>No</td>\n",
              "      <td>Yes</td>\n",
              "      <td>Yes</td>\n",
              "      <td>No</td>\n",
              "      <td>3</td>\n",
              "      <td>3</td>\n",
              "      <td>2.500</td>\n",
              "    </tr>\n",
              "    <tr>\n",
              "      <th>8</th>\n",
              "      <td>21</td>\n",
              "      <td>M</td>\n",
              "      <td>Architecture</td>\n",
              "      <td>3</td>\n",
              "      <td>Camarines Sur</td>\n",
              "      <td>Separated</td>\n",
              "      <td>College</td>\n",
              "      <td>College</td>\n",
              "      <td>More than 50,000</td>\n",
              "      <td>Yes</td>\n",
              "      <td>...</td>\n",
              "      <td>4</td>\n",
              "      <td>Few weeks ago</td>\n",
              "      <td>Few weeks ago</td>\n",
              "      <td>No</td>\n",
              "      <td>Yes</td>\n",
              "      <td>No</td>\n",
              "      <td>Yes</td>\n",
              "      <td>3</td>\n",
              "      <td>3</td>\n",
              "      <td>2.625</td>\n",
              "    </tr>\n",
              "    <tr>\n",
              "      <th>9</th>\n",
              "      <td>20</td>\n",
              "      <td>F</td>\n",
              "      <td>Computer Science</td>\n",
              "      <td>2</td>\n",
              "      <td>Makati</td>\n",
              "      <td>Complete</td>\n",
              "      <td>High School</td>\n",
              "      <td>High School</td>\n",
              "      <td>Less than 10,000</td>\n",
              "      <td>No</td>\n",
              "      <td>...</td>\n",
              "      <td>3</td>\n",
              "      <td>Few weeks ago</td>\n",
              "      <td>Few days ago</td>\n",
              "      <td>No</td>\n",
              "      <td>No</td>\n",
              "      <td>Yes</td>\n",
              "      <td>No</td>\n",
              "      <td>4</td>\n",
              "      <td>3</td>\n",
              "      <td>2.875</td>\n",
              "    </tr>\n",
              "  </tbody>\n",
              "</table>\n",
              "<p>10 rows × 25 columns</p>\n",
              "</div>\n",
              "      <button class=\"colab-df-convert\" onclick=\"convertToInteractive('df-d635368b-b223-4e70-a90d-d58e9550f2e4')\"\n",
              "              title=\"Convert this dataframe to an interactive table.\"\n",
              "              style=\"display:none;\">\n",
              "        \n",
              "  <svg xmlns=\"http://www.w3.org/2000/svg\" height=\"24px\"viewBox=\"0 0 24 24\"\n",
              "       width=\"24px\">\n",
              "    <path d=\"M0 0h24v24H0V0z\" fill=\"none\"/>\n",
              "    <path d=\"M18.56 5.44l.94 2.06.94-2.06 2.06-.94-2.06-.94-.94-2.06-.94 2.06-2.06.94zm-11 1L8.5 8.5l.94-2.06 2.06-.94-2.06-.94L8.5 2.5l-.94 2.06-2.06.94zm10 10l.94 2.06.94-2.06 2.06-.94-2.06-.94-.94-2.06-.94 2.06-2.06.94z\"/><path d=\"M17.41 7.96l-1.37-1.37c-.4-.4-.92-.59-1.43-.59-.52 0-1.04.2-1.43.59L10.3 9.45l-7.72 7.72c-.78.78-.78 2.05 0 2.83L4 21.41c.39.39.9.59 1.41.59.51 0 1.02-.2 1.41-.59l7.78-7.78 2.81-2.81c.8-.78.8-2.07 0-2.86zM5.41 20L4 18.59l7.72-7.72 1.47 1.35L5.41 20z\"/>\n",
              "  </svg>\n",
              "      </button>\n",
              "      \n",
              "  <style>\n",
              "    .colab-df-container {\n",
              "      display:flex;\n",
              "      flex-wrap:wrap;\n",
              "      gap: 12px;\n",
              "    }\n",
              "\n",
              "    .colab-df-convert {\n",
              "      background-color: #E8F0FE;\n",
              "      border: none;\n",
              "      border-radius: 50%;\n",
              "      cursor: pointer;\n",
              "      display: none;\n",
              "      fill: #1967D2;\n",
              "      height: 32px;\n",
              "      padding: 0 0 0 0;\n",
              "      width: 32px;\n",
              "    }\n",
              "\n",
              "    .colab-df-convert:hover {\n",
              "      background-color: #E2EBFA;\n",
              "      box-shadow: 0px 1px 2px rgba(60, 64, 67, 0.3), 0px 1px 3px 1px rgba(60, 64, 67, 0.15);\n",
              "      fill: #174EA6;\n",
              "    }\n",
              "\n",
              "    [theme=dark] .colab-df-convert {\n",
              "      background-color: #3B4455;\n",
              "      fill: #D2E3FC;\n",
              "    }\n",
              "\n",
              "    [theme=dark] .colab-df-convert:hover {\n",
              "      background-color: #434B5C;\n",
              "      box-shadow: 0px 1px 3px 1px rgba(0, 0, 0, 0.15);\n",
              "      filter: drop-shadow(0px 1px 2px rgba(0, 0, 0, 0.3));\n",
              "      fill: #FFFFFF;\n",
              "    }\n",
              "  </style>\n",
              "\n",
              "      <script>\n",
              "        const buttonEl =\n",
              "          document.querySelector('#df-d635368b-b223-4e70-a90d-d58e9550f2e4 button.colab-df-convert');\n",
              "        buttonEl.style.display =\n",
              "          google.colab.kernel.accessAllowed ? 'block' : 'none';\n",
              "\n",
              "        async function convertToInteractive(key) {\n",
              "          const element = document.querySelector('#df-d635368b-b223-4e70-a90d-d58e9550f2e4');\n",
              "          const dataTable =\n",
              "            await google.colab.kernel.invokeFunction('convertToInteractive',\n",
              "                                                     [key], {});\n",
              "          if (!dataTable) return;\n",
              "\n",
              "          const docLinkHtml = 'Like what you see? Visit the ' +\n",
              "            '<a target=\"_blank\" href=https://colab.research.google.com/notebooks/data_table.ipynb>data table notebook</a>'\n",
              "            + ' to learn more about interactive tables.';\n",
              "          element.innerHTML = '';\n",
              "          dataTable['output_type'] = 'display_data';\n",
              "          await google.colab.output.renderOutput(dataTable, element);\n",
              "          const docLink = document.createElement('div');\n",
              "          docLink.innerHTML = docLinkHtml;\n",
              "          element.appendChild(docLink);\n",
              "        }\n",
              "      </script>\n",
              "    </div>\n",
              "  </div>\n",
              "  "
            ]
          },
          "metadata": {},
          "execution_count": 6
        }
      ]
    },
    {
      "cell_type": "code",
      "source": [
        "#describing the statistical components of the data\n",
        "df.describe()"
      ],
      "metadata": {
        "id": "z7l-LdGkBwNO",
        "colab": {
          "base_uri": "https://localhost:8080/",
          "height": 300
        },
        "outputId": "eb253f5f-5381-435f-e1fb-9c99605e0a78"
      },
      "execution_count": null,
      "outputs": [
        {
          "output_type": "execute_result",
          "data": {
            "text/plain": [
              "             AGE       YEAR         Q1         Q2         Q3         Q4  \\\n",
              "count  52.000000  52.000000  52.000000  52.000000  52.000000  52.000000   \n",
              "mean   20.673077   3.807692   2.903846   3.211538   2.230769   2.192308   \n",
              "std     1.745820   2.619972   1.124759   1.016270   1.059326   0.990909   \n",
              "min    16.000000   1.000000   1.000000   1.000000   1.000000   1.000000   \n",
              "25%    20.750000   3.000000   2.000000   3.000000   1.000000   1.000000   \n",
              "50%    21.000000   3.000000   3.000000   3.000000   2.000000   2.000000   \n",
              "75%    21.000000   3.000000   4.000000   4.000000   3.000000   3.000000   \n",
              "max    26.000000  12.000000   5.000000   5.000000   4.000000   4.000000   \n",
              "\n",
              "              Q5         Q6        Q13        Q14  Mental State  \n",
              "count  52.000000  52.000000  52.000000  52.000000     52.000000  \n",
              "mean    2.519231   2.903846   3.038462   2.461538      2.682692  \n",
              "std     1.075400   0.913077   0.948922   0.778675      0.418961  \n",
              "min     1.000000   1.000000   1.000000   1.000000      1.750000  \n",
              "25%     2.000000   2.750000   3.000000   2.000000      2.375000  \n",
              "50%     2.500000   3.000000   3.000000   3.000000      2.625000  \n",
              "75%     3.000000   3.000000   4.000000   3.000000      2.906250  \n",
              "max     4.000000   5.000000   4.000000   4.000000      3.750000  "
            ],
            "text/html": [
              "\n",
              "  <div id=\"df-37610a48-737f-419d-8eda-bc9ff9058ea3\">\n",
              "    <div class=\"colab-df-container\">\n",
              "      <div>\n",
              "<style scoped>\n",
              "    .dataframe tbody tr th:only-of-type {\n",
              "        vertical-align: middle;\n",
              "    }\n",
              "\n",
              "    .dataframe tbody tr th {\n",
              "        vertical-align: top;\n",
              "    }\n",
              "\n",
              "    .dataframe thead th {\n",
              "        text-align: right;\n",
              "    }\n",
              "</style>\n",
              "<table border=\"1\" class=\"dataframe\">\n",
              "  <thead>\n",
              "    <tr style=\"text-align: right;\">\n",
              "      <th></th>\n",
              "      <th>AGE</th>\n",
              "      <th>YEAR</th>\n",
              "      <th>Q1</th>\n",
              "      <th>Q2</th>\n",
              "      <th>Q3</th>\n",
              "      <th>Q4</th>\n",
              "      <th>Q5</th>\n",
              "      <th>Q6</th>\n",
              "      <th>Q13</th>\n",
              "      <th>Q14</th>\n",
              "      <th>Mental State</th>\n",
              "    </tr>\n",
              "  </thead>\n",
              "  <tbody>\n",
              "    <tr>\n",
              "      <th>count</th>\n",
              "      <td>52.000000</td>\n",
              "      <td>52.000000</td>\n",
              "      <td>52.000000</td>\n",
              "      <td>52.000000</td>\n",
              "      <td>52.000000</td>\n",
              "      <td>52.000000</td>\n",
              "      <td>52.000000</td>\n",
              "      <td>52.000000</td>\n",
              "      <td>52.000000</td>\n",
              "      <td>52.000000</td>\n",
              "      <td>52.000000</td>\n",
              "    </tr>\n",
              "    <tr>\n",
              "      <th>mean</th>\n",
              "      <td>20.673077</td>\n",
              "      <td>3.807692</td>\n",
              "      <td>2.903846</td>\n",
              "      <td>3.211538</td>\n",
              "      <td>2.230769</td>\n",
              "      <td>2.192308</td>\n",
              "      <td>2.519231</td>\n",
              "      <td>2.903846</td>\n",
              "      <td>3.038462</td>\n",
              "      <td>2.461538</td>\n",
              "      <td>2.682692</td>\n",
              "    </tr>\n",
              "    <tr>\n",
              "      <th>std</th>\n",
              "      <td>1.745820</td>\n",
              "      <td>2.619972</td>\n",
              "      <td>1.124759</td>\n",
              "      <td>1.016270</td>\n",
              "      <td>1.059326</td>\n",
              "      <td>0.990909</td>\n",
              "      <td>1.075400</td>\n",
              "      <td>0.913077</td>\n",
              "      <td>0.948922</td>\n",
              "      <td>0.778675</td>\n",
              "      <td>0.418961</td>\n",
              "    </tr>\n",
              "    <tr>\n",
              "      <th>min</th>\n",
              "      <td>16.000000</td>\n",
              "      <td>1.000000</td>\n",
              "      <td>1.000000</td>\n",
              "      <td>1.000000</td>\n",
              "      <td>1.000000</td>\n",
              "      <td>1.000000</td>\n",
              "      <td>1.000000</td>\n",
              "      <td>1.000000</td>\n",
              "      <td>1.000000</td>\n",
              "      <td>1.000000</td>\n",
              "      <td>1.750000</td>\n",
              "    </tr>\n",
              "    <tr>\n",
              "      <th>25%</th>\n",
              "      <td>20.750000</td>\n",
              "      <td>3.000000</td>\n",
              "      <td>2.000000</td>\n",
              "      <td>3.000000</td>\n",
              "      <td>1.000000</td>\n",
              "      <td>1.000000</td>\n",
              "      <td>2.000000</td>\n",
              "      <td>2.750000</td>\n",
              "      <td>3.000000</td>\n",
              "      <td>2.000000</td>\n",
              "      <td>2.375000</td>\n",
              "    </tr>\n",
              "    <tr>\n",
              "      <th>50%</th>\n",
              "      <td>21.000000</td>\n",
              "      <td>3.000000</td>\n",
              "      <td>3.000000</td>\n",
              "      <td>3.000000</td>\n",
              "      <td>2.000000</td>\n",
              "      <td>2.000000</td>\n",
              "      <td>2.500000</td>\n",
              "      <td>3.000000</td>\n",
              "      <td>3.000000</td>\n",
              "      <td>3.000000</td>\n",
              "      <td>2.625000</td>\n",
              "    </tr>\n",
              "    <tr>\n",
              "      <th>75%</th>\n",
              "      <td>21.000000</td>\n",
              "      <td>3.000000</td>\n",
              "      <td>4.000000</td>\n",
              "      <td>4.000000</td>\n",
              "      <td>3.000000</td>\n",
              "      <td>3.000000</td>\n",
              "      <td>3.000000</td>\n",
              "      <td>3.000000</td>\n",
              "      <td>4.000000</td>\n",
              "      <td>3.000000</td>\n",
              "      <td>2.906250</td>\n",
              "    </tr>\n",
              "    <tr>\n",
              "      <th>max</th>\n",
              "      <td>26.000000</td>\n",
              "      <td>12.000000</td>\n",
              "      <td>5.000000</td>\n",
              "      <td>5.000000</td>\n",
              "      <td>4.000000</td>\n",
              "      <td>4.000000</td>\n",
              "      <td>4.000000</td>\n",
              "      <td>5.000000</td>\n",
              "      <td>4.000000</td>\n",
              "      <td>4.000000</td>\n",
              "      <td>3.750000</td>\n",
              "    </tr>\n",
              "  </tbody>\n",
              "</table>\n",
              "</div>\n",
              "      <button class=\"colab-df-convert\" onclick=\"convertToInteractive('df-37610a48-737f-419d-8eda-bc9ff9058ea3')\"\n",
              "              title=\"Convert this dataframe to an interactive table.\"\n",
              "              style=\"display:none;\">\n",
              "        \n",
              "  <svg xmlns=\"http://www.w3.org/2000/svg\" height=\"24px\"viewBox=\"0 0 24 24\"\n",
              "       width=\"24px\">\n",
              "    <path d=\"M0 0h24v24H0V0z\" fill=\"none\"/>\n",
              "    <path d=\"M18.56 5.44l.94 2.06.94-2.06 2.06-.94-2.06-.94-.94-2.06-.94 2.06-2.06.94zm-11 1L8.5 8.5l.94-2.06 2.06-.94-2.06-.94L8.5 2.5l-.94 2.06-2.06.94zm10 10l.94 2.06.94-2.06 2.06-.94-2.06-.94-.94-2.06-.94 2.06-2.06.94z\"/><path d=\"M17.41 7.96l-1.37-1.37c-.4-.4-.92-.59-1.43-.59-.52 0-1.04.2-1.43.59L10.3 9.45l-7.72 7.72c-.78.78-.78 2.05 0 2.83L4 21.41c.39.39.9.59 1.41.59.51 0 1.02-.2 1.41-.59l7.78-7.78 2.81-2.81c.8-.78.8-2.07 0-2.86zM5.41 20L4 18.59l7.72-7.72 1.47 1.35L5.41 20z\"/>\n",
              "  </svg>\n",
              "      </button>\n",
              "      \n",
              "  <style>\n",
              "    .colab-df-container {\n",
              "      display:flex;\n",
              "      flex-wrap:wrap;\n",
              "      gap: 12px;\n",
              "    }\n",
              "\n",
              "    .colab-df-convert {\n",
              "      background-color: #E8F0FE;\n",
              "      border: none;\n",
              "      border-radius: 50%;\n",
              "      cursor: pointer;\n",
              "      display: none;\n",
              "      fill: #1967D2;\n",
              "      height: 32px;\n",
              "      padding: 0 0 0 0;\n",
              "      width: 32px;\n",
              "    }\n",
              "\n",
              "    .colab-df-convert:hover {\n",
              "      background-color: #E2EBFA;\n",
              "      box-shadow: 0px 1px 2px rgba(60, 64, 67, 0.3), 0px 1px 3px 1px rgba(60, 64, 67, 0.15);\n",
              "      fill: #174EA6;\n",
              "    }\n",
              "\n",
              "    [theme=dark] .colab-df-convert {\n",
              "      background-color: #3B4455;\n",
              "      fill: #D2E3FC;\n",
              "    }\n",
              "\n",
              "    [theme=dark] .colab-df-convert:hover {\n",
              "      background-color: #434B5C;\n",
              "      box-shadow: 0px 1px 3px 1px rgba(0, 0, 0, 0.15);\n",
              "      filter: drop-shadow(0px 1px 2px rgba(0, 0, 0, 0.3));\n",
              "      fill: #FFFFFF;\n",
              "    }\n",
              "  </style>\n",
              "\n",
              "      <script>\n",
              "        const buttonEl =\n",
              "          document.querySelector('#df-37610a48-737f-419d-8eda-bc9ff9058ea3 button.colab-df-convert');\n",
              "        buttonEl.style.display =\n",
              "          google.colab.kernel.accessAllowed ? 'block' : 'none';\n",
              "\n",
              "        async function convertToInteractive(key) {\n",
              "          const element = document.querySelector('#df-37610a48-737f-419d-8eda-bc9ff9058ea3');\n",
              "          const dataTable =\n",
              "            await google.colab.kernel.invokeFunction('convertToInteractive',\n",
              "                                                     [key], {});\n",
              "          if (!dataTable) return;\n",
              "\n",
              "          const docLinkHtml = 'Like what you see? Visit the ' +\n",
              "            '<a target=\"_blank\" href=https://colab.research.google.com/notebooks/data_table.ipynb>data table notebook</a>'\n",
              "            + ' to learn more about interactive tables.';\n",
              "          element.innerHTML = '';\n",
              "          dataTable['output_type'] = 'display_data';\n",
              "          await google.colab.output.renderOutput(dataTable, element);\n",
              "          const docLink = document.createElement('div');\n",
              "          docLink.innerHTML = docLinkHtml;\n",
              "          element.appendChild(docLink);\n",
              "        }\n",
              "      </script>\n",
              "    </div>\n",
              "  </div>\n",
              "  "
            ]
          },
          "metadata": {},
          "execution_count": 7
        }
      ]
    },
    {
      "cell_type": "markdown",
      "source": [
        "C. Data Preprocessing"
      ],
      "metadata": {
        "id": "meyUkKrU6XRX"
      }
    },
    {
      "cell_type": "code",
      "source": [
        "#Rechecking the data after dropping null values\n",
        "df.isnull().sum()"
      ],
      "metadata": {
        "colab": {
          "base_uri": "https://localhost:8080/"
        },
        "id": "WuSqeYBBck9I",
        "outputId": "e8bdb80f-50ba-4dcc-b5b0-c936d2edd3e8"
      },
      "execution_count": null,
      "outputs": [
        {
          "output_type": "execute_result",
          "data": {
            "text/plain": [
              "AGE                        0\n",
              "GENDER                     0\n",
              "COURSE                     0\n",
              "YEAR                       0\n",
              "CITY                       0\n",
              "FAMILY STATUS              0\n",
              "MOTHER'S EDUCATION         0\n",
              "FATHER'S EDUCATION         0\n",
              "MONTHLY INCOME             0\n",
              "MENTAL DISORDER HISTORY    0\n",
              "Q1                         0\n",
              "Q2                         0\n",
              "Q3                         0\n",
              "Q4                         0\n",
              "Q5                         0\n",
              "Q6                         0\n",
              "Q7                         0\n",
              "Q8                         0\n",
              "Q9                         0\n",
              "Q10                        0\n",
              "Q11                        0\n",
              "Q12                        0\n",
              "Q13                        0\n",
              "Q14                        0\n",
              "Mental State               0\n",
              "dtype: int64"
            ]
          },
          "metadata": {},
          "execution_count": 8
        }
      ]
    },
    {
      "cell_type": "code",
      "source": [
        "#Dropping null values and replacing infinity values\n",
        "import numpy as np\n",
        "df[df==np.inf]=np.nan\n",
        "df.fillna(df.mean(), inplace=True)"
      ],
      "metadata": {
        "id": "QjVJfuzBNrLI",
        "colab": {
          "base_uri": "https://localhost:8080/"
        },
        "outputId": "d4992d0a-9f40-404f-c7dc-e286d327cb9e"
      },
      "execution_count": null,
      "outputs": [
        {
          "output_type": "stream",
          "name": "stderr",
          "text": [
            "/usr/local/lib/python3.7/dist-packages/ipykernel_launcher.py:4: FutureWarning: Dropping of nuisance columns in DataFrame reductions (with 'numeric_only=None') is deprecated; in a future version this will raise TypeError.  Select only valid columns before calling the reduction.\n",
            "  after removing the cwd from sys.path.\n"
          ]
        }
      ]
    },
    {
      "cell_type": "code",
      "source": [
        "df.head(5)"
      ],
      "metadata": {
        "colab": {
          "base_uri": "https://localhost:8080/",
          "height": 488
        },
        "id": "WnHkVZkDeuNs",
        "outputId": "91a560f7-2e3e-4a6f-fe4b-6bc447b926d1"
      },
      "execution_count": null,
      "outputs": [
        {
          "output_type": "execute_result",
          "data": {
            "text/plain": [
              "   AGE GENDER          COURSE  YEAR    CITY FAMILY STATUS MOTHER'S EDUCATION  \\\n",
              "0   21      M    Data Science     3  Makati      Complete            College   \n",
              "1   21      F      Psychology     3   Pasay      Complete        High School   \n",
              "2   23      M  Animation Tech     2  Cavite      Deceased         Elementary   \n",
              "3   20      F     Accountancy     3  Manila      Complete            College   \n",
              "4   21      F         Nursing     3  Makati      Deceased        High School   \n",
              "\n",
              "  FATHER'S EDUCATION    MONTHLY INCOME MENTAL DISORDER HISTORY  ...  Q6  \\\n",
              "0            College  More than 50,000                      No  ...   3   \n",
              "1        High School  More than 50,000                      No  ...   3   \n",
              "2         Elementary  Less than 10,000                      No  ...   3   \n",
              "3         Elementary  Less than 10,000                      No  ...   4   \n",
              "4            College  10,000 to 15,000                      No  ...   2   \n",
              "\n",
              "                 Q7                Q8        Q9  Q10  Q11  Q12 Q13 Q14  \\\n",
              "0     Few weeks ago     Few weeks ago        No   No  Yes   No   3   3   \n",
              "1  I don't remember  I don't remember  Not sure  Yes  Yes  Yes   4   3   \n",
              "2      Few days ago      Few days ago        No  Yes  Yes   No   1   3   \n",
              "3      Few days ago      Few days ago       Yes  Yes   No  Yes   4   2   \n",
              "4  I don't remember  I don't remember        No  Yes  Yes   No   4   2   \n",
              "\n",
              "  Mental State  \n",
              "0         2.75  \n",
              "1         2.62  \n",
              "2         2.50  \n",
              "3         2.38  \n",
              "4         2.38  \n",
              "\n",
              "[5 rows x 25 columns]"
            ],
            "text/html": [
              "\n",
              "  <div id=\"df-292ea4d8-f1b6-4305-abda-08284bc52303\">\n",
              "    <div class=\"colab-df-container\">\n",
              "      <div>\n",
              "<style scoped>\n",
              "    .dataframe tbody tr th:only-of-type {\n",
              "        vertical-align: middle;\n",
              "    }\n",
              "\n",
              "    .dataframe tbody tr th {\n",
              "        vertical-align: top;\n",
              "    }\n",
              "\n",
              "    .dataframe thead th {\n",
              "        text-align: right;\n",
              "    }\n",
              "</style>\n",
              "<table border=\"1\" class=\"dataframe\">\n",
              "  <thead>\n",
              "    <tr style=\"text-align: right;\">\n",
              "      <th></th>\n",
              "      <th>AGE</th>\n",
              "      <th>GENDER</th>\n",
              "      <th>COURSE</th>\n",
              "      <th>YEAR</th>\n",
              "      <th>CITY</th>\n",
              "      <th>FAMILY STATUS</th>\n",
              "      <th>MOTHER'S EDUCATION</th>\n",
              "      <th>FATHER'S EDUCATION</th>\n",
              "      <th>MONTHLY INCOME</th>\n",
              "      <th>MENTAL DISORDER HISTORY</th>\n",
              "      <th>...</th>\n",
              "      <th>Q6</th>\n",
              "      <th>Q7</th>\n",
              "      <th>Q8</th>\n",
              "      <th>Q9</th>\n",
              "      <th>Q10</th>\n",
              "      <th>Q11</th>\n",
              "      <th>Q12</th>\n",
              "      <th>Q13</th>\n",
              "      <th>Q14</th>\n",
              "      <th>Mental State</th>\n",
              "    </tr>\n",
              "  </thead>\n",
              "  <tbody>\n",
              "    <tr>\n",
              "      <th>0</th>\n",
              "      <td>21</td>\n",
              "      <td>M</td>\n",
              "      <td>Data Science</td>\n",
              "      <td>3</td>\n",
              "      <td>Makati</td>\n",
              "      <td>Complete</td>\n",
              "      <td>College</td>\n",
              "      <td>College</td>\n",
              "      <td>More than 50,000</td>\n",
              "      <td>No</td>\n",
              "      <td>...</td>\n",
              "      <td>3</td>\n",
              "      <td>Few weeks ago</td>\n",
              "      <td>Few weeks ago</td>\n",
              "      <td>No</td>\n",
              "      <td>No</td>\n",
              "      <td>Yes</td>\n",
              "      <td>No</td>\n",
              "      <td>3</td>\n",
              "      <td>3</td>\n",
              "      <td>2.75</td>\n",
              "    </tr>\n",
              "    <tr>\n",
              "      <th>1</th>\n",
              "      <td>21</td>\n",
              "      <td>F</td>\n",
              "      <td>Psychology</td>\n",
              "      <td>3</td>\n",
              "      <td>Pasay</td>\n",
              "      <td>Complete</td>\n",
              "      <td>High School</td>\n",
              "      <td>High School</td>\n",
              "      <td>More than 50,000</td>\n",
              "      <td>No</td>\n",
              "      <td>...</td>\n",
              "      <td>3</td>\n",
              "      <td>I don't remember</td>\n",
              "      <td>I don't remember</td>\n",
              "      <td>Not sure</td>\n",
              "      <td>Yes</td>\n",
              "      <td>Yes</td>\n",
              "      <td>Yes</td>\n",
              "      <td>4</td>\n",
              "      <td>3</td>\n",
              "      <td>2.62</td>\n",
              "    </tr>\n",
              "    <tr>\n",
              "      <th>2</th>\n",
              "      <td>23</td>\n",
              "      <td>M</td>\n",
              "      <td>Animation Tech</td>\n",
              "      <td>2</td>\n",
              "      <td>Cavite</td>\n",
              "      <td>Deceased</td>\n",
              "      <td>Elementary</td>\n",
              "      <td>Elementary</td>\n",
              "      <td>Less than 10,000</td>\n",
              "      <td>No</td>\n",
              "      <td>...</td>\n",
              "      <td>3</td>\n",
              "      <td>Few days ago</td>\n",
              "      <td>Few days ago</td>\n",
              "      <td>No</td>\n",
              "      <td>Yes</td>\n",
              "      <td>Yes</td>\n",
              "      <td>No</td>\n",
              "      <td>1</td>\n",
              "      <td>3</td>\n",
              "      <td>2.50</td>\n",
              "    </tr>\n",
              "    <tr>\n",
              "      <th>3</th>\n",
              "      <td>20</td>\n",
              "      <td>F</td>\n",
              "      <td>Accountancy</td>\n",
              "      <td>3</td>\n",
              "      <td>Manila</td>\n",
              "      <td>Complete</td>\n",
              "      <td>College</td>\n",
              "      <td>Elementary</td>\n",
              "      <td>Less than 10,000</td>\n",
              "      <td>No</td>\n",
              "      <td>...</td>\n",
              "      <td>4</td>\n",
              "      <td>Few days ago</td>\n",
              "      <td>Few days ago</td>\n",
              "      <td>Yes</td>\n",
              "      <td>Yes</td>\n",
              "      <td>No</td>\n",
              "      <td>Yes</td>\n",
              "      <td>4</td>\n",
              "      <td>2</td>\n",
              "      <td>2.38</td>\n",
              "    </tr>\n",
              "    <tr>\n",
              "      <th>4</th>\n",
              "      <td>21</td>\n",
              "      <td>F</td>\n",
              "      <td>Nursing</td>\n",
              "      <td>3</td>\n",
              "      <td>Makati</td>\n",
              "      <td>Deceased</td>\n",
              "      <td>High School</td>\n",
              "      <td>College</td>\n",
              "      <td>10,000 to 15,000</td>\n",
              "      <td>No</td>\n",
              "      <td>...</td>\n",
              "      <td>2</td>\n",
              "      <td>I don't remember</td>\n",
              "      <td>I don't remember</td>\n",
              "      <td>No</td>\n",
              "      <td>Yes</td>\n",
              "      <td>Yes</td>\n",
              "      <td>No</td>\n",
              "      <td>4</td>\n",
              "      <td>2</td>\n",
              "      <td>2.38</td>\n",
              "    </tr>\n",
              "  </tbody>\n",
              "</table>\n",
              "<p>5 rows × 25 columns</p>\n",
              "</div>\n",
              "      <button class=\"colab-df-convert\" onclick=\"convertToInteractive('df-292ea4d8-f1b6-4305-abda-08284bc52303')\"\n",
              "              title=\"Convert this dataframe to an interactive table.\"\n",
              "              style=\"display:none;\">\n",
              "        \n",
              "  <svg xmlns=\"http://www.w3.org/2000/svg\" height=\"24px\"viewBox=\"0 0 24 24\"\n",
              "       width=\"24px\">\n",
              "    <path d=\"M0 0h24v24H0V0z\" fill=\"none\"/>\n",
              "    <path d=\"M18.56 5.44l.94 2.06.94-2.06 2.06-.94-2.06-.94-.94-2.06-.94 2.06-2.06.94zm-11 1L8.5 8.5l.94-2.06 2.06-.94-2.06-.94L8.5 2.5l-.94 2.06-2.06.94zm10 10l.94 2.06.94-2.06 2.06-.94-2.06-.94-.94-2.06-.94 2.06-2.06.94z\"/><path d=\"M17.41 7.96l-1.37-1.37c-.4-.4-.92-.59-1.43-.59-.52 0-1.04.2-1.43.59L10.3 9.45l-7.72 7.72c-.78.78-.78 2.05 0 2.83L4 21.41c.39.39.9.59 1.41.59.51 0 1.02-.2 1.41-.59l7.78-7.78 2.81-2.81c.8-.78.8-2.07 0-2.86zM5.41 20L4 18.59l7.72-7.72 1.47 1.35L5.41 20z\"/>\n",
              "  </svg>\n",
              "      </button>\n",
              "      \n",
              "  <style>\n",
              "    .colab-df-container {\n",
              "      display:flex;\n",
              "      flex-wrap:wrap;\n",
              "      gap: 12px;\n",
              "    }\n",
              "\n",
              "    .colab-df-convert {\n",
              "      background-color: #E8F0FE;\n",
              "      border: none;\n",
              "      border-radius: 50%;\n",
              "      cursor: pointer;\n",
              "      display: none;\n",
              "      fill: #1967D2;\n",
              "      height: 32px;\n",
              "      padding: 0 0 0 0;\n",
              "      width: 32px;\n",
              "    }\n",
              "\n",
              "    .colab-df-convert:hover {\n",
              "      background-color: #E2EBFA;\n",
              "      box-shadow: 0px 1px 2px rgba(60, 64, 67, 0.3), 0px 1px 3px 1px rgba(60, 64, 67, 0.15);\n",
              "      fill: #174EA6;\n",
              "    }\n",
              "\n",
              "    [theme=dark] .colab-df-convert {\n",
              "      background-color: #3B4455;\n",
              "      fill: #D2E3FC;\n",
              "    }\n",
              "\n",
              "    [theme=dark] .colab-df-convert:hover {\n",
              "      background-color: #434B5C;\n",
              "      box-shadow: 0px 1px 3px 1px rgba(0, 0, 0, 0.15);\n",
              "      filter: drop-shadow(0px 1px 2px rgba(0, 0, 0, 0.3));\n",
              "      fill: #FFFFFF;\n",
              "    }\n",
              "  </style>\n",
              "\n",
              "      <script>\n",
              "        const buttonEl =\n",
              "          document.querySelector('#df-292ea4d8-f1b6-4305-abda-08284bc52303 button.colab-df-convert');\n",
              "        buttonEl.style.display =\n",
              "          google.colab.kernel.accessAllowed ? 'block' : 'none';\n",
              "\n",
              "        async function convertToInteractive(key) {\n",
              "          const element = document.querySelector('#df-292ea4d8-f1b6-4305-abda-08284bc52303');\n",
              "          const dataTable =\n",
              "            await google.colab.kernel.invokeFunction('convertToInteractive',\n",
              "                                                     [key], {});\n",
              "          if (!dataTable) return;\n",
              "\n",
              "          const docLinkHtml = 'Like what you see? Visit the ' +\n",
              "            '<a target=\"_blank\" href=https://colab.research.google.com/notebooks/data_table.ipynb>data table notebook</a>'\n",
              "            + ' to learn more about interactive tables.';\n",
              "          element.innerHTML = '';\n",
              "          dataTable['output_type'] = 'display_data';\n",
              "          await google.colab.output.renderOutput(dataTable, element);\n",
              "          const docLink = document.createElement('div');\n",
              "          docLink.innerHTML = docLinkHtml;\n",
              "          element.appendChild(docLink);\n",
              "        }\n",
              "      </script>\n",
              "    </div>\n",
              "  </div>\n",
              "  "
            ]
          },
          "metadata": {},
          "execution_count": 11
        }
      ]
    },
    {
      "cell_type": "code",
      "source": [
        "#Transforming the categorical attributes into integer\n",
        "from sklearn.preprocessing import LabelEncoder\n",
        "le = LabelEncoder()\n",
        "\n",
        "df['GENDER'] = le.fit_transform(df['GENDER'])\n",
        "df['GENDER'].unique()\n",
        "df['COURSE'] = le.fit_transform(df['COURSE'])\n",
        "df['COURSE'].unique()\n",
        "df['CITY'] = le.fit_transform(df['CITY'])\n",
        "df['CITY'].unique()\n",
        "df['FAMILY STATUS'] = le.fit_transform(df['FAMILY STATUS'])\n",
        "df['FAMILY STATUS'].unique()\n",
        "df[\"MOTHER'S EDUCATION\"] = le.fit_transform(df[\"MOTHER'S EDUCATION\"])\n",
        "df[\"MOTHER'S EDUCATION\"].unique()\n",
        "df[\"FATHER'S EDUCATION\"] = le.fit_transform(df[\"FATHER'S EDUCATION\"])\n",
        "df[\"FATHER'S EDUCATION\"].unique()\n",
        "df[\"MONTHLY INCOME\"] = le.fit_transform(df[\"MONTHLY INCOME\"])\n",
        "df[\"MONTHLY INCOME\"].unique()\n",
        "df[\"MENTAL DISORDER HISTORY\"] = le.fit_transform(df[\"MENTAL DISORDER HISTORY\"])\n",
        "df[\"MENTAL DISORDER HISTORY\"].unique()\n",
        "df[\"Q7\"] = le.fit_transform(df[\"Q7\"])\n",
        "df[\"Q7\"].unique()\n",
        "df[\"Q8\"] = le.fit_transform(df[\"Q8\"])\n",
        "df[\"Q8\"].unique()\n",
        "df[\"Q9\"] = le.fit_transform(df[\"Q9\"])\n",
        "df[\"Q9\"].unique()\n",
        "df[\"Q10\"] = le.fit_transform(df[\"Q10\"])\n",
        "df[\"Q10\"].unique()\n",
        "df[\"Q11\"] = le.fit_transform(df[\"Q11\"])\n",
        "df[\"Q11\"].unique()\n",
        "df[\"Q12\"] = le.fit_transform(df[\"Q12\"])\n",
        "df[\"Q12\"].unique()"
      ],
      "metadata": {
        "id": "qq9vPzMWcoyp",
        "colab": {
          "base_uri": "https://localhost:8080/"
        },
        "outputId": "26afac8a-1baa-4e29-afc8-d9be1a3b8692"
      },
      "execution_count": null,
      "outputs": [
        {
          "output_type": "execute_result",
          "data": {
            "text/plain": [
              "array([0, 1])"
            ]
          },
          "metadata": {},
          "execution_count": 12
        }
      ]
    },
    {
      "cell_type": "code",
      "source": [
        "#rounding off the dataset into nearest tenths\n",
        "df = df.round(2)"
      ],
      "metadata": {
        "id": "raqnoYvAOlct"
      },
      "execution_count": null,
      "outputs": []
    },
    {
      "cell_type": "code",
      "source": [
        "#Rechecking the dataframe\n",
        "df.head(5)"
      ],
      "metadata": {
        "colab": {
          "base_uri": "https://localhost:8080/",
          "height": 297
        },
        "id": "ASKXoZA1pM7e",
        "outputId": "37dee978-51d9-4c6f-cae9-df1a31187419"
      },
      "execution_count": null,
      "outputs": [
        {
          "output_type": "execute_result",
          "data": {
            "text/plain": [
              "   AGE  GENDER  COURSE  YEAR  CITY  FAMILY STATUS  MOTHER'S EDUCATION  \\\n",
              "0   21       1      11     3     6              0                   0   \n",
              "1   21       0      24     3    10              0                   2   \n",
              "2   23       1       2     2     4              1                   1   \n",
              "3   20       0       0     3     8              0                   0   \n",
              "4   21       0      21     3     6              1                   2   \n",
              "\n",
              "   FATHER'S EDUCATION  MONTHLY INCOME  MENTAL DISORDER HISTORY  ...  Q6  Q7  \\\n",
              "0                   0               7                        0  ...   3   2   \n",
              "1                   2               7                        0  ...   3   4   \n",
              "2                   1               6                        0  ...   3   0   \n",
              "3                   1               6                        0  ...   4   0   \n",
              "4                   0               0                        0  ...   2   4   \n",
              "\n",
              "   Q8  Q9  Q10  Q11  Q12  Q13  Q14  Mental State  \n",
              "0   2   0    0    2    0    3    3          2.75  \n",
              "1   4   1    2    2    1    4    3          2.62  \n",
              "2   0   0    2    2    0    1    3          2.50  \n",
              "3   0   2    2    1    1    4    2          2.38  \n",
              "4   4   0    2    2    0    4    2          2.38  \n",
              "\n",
              "[5 rows x 25 columns]"
            ],
            "text/html": [
              "\n",
              "  <div id=\"df-cdf60221-38e0-4bb1-ab39-d65d902c5875\">\n",
              "    <div class=\"colab-df-container\">\n",
              "      <div>\n",
              "<style scoped>\n",
              "    .dataframe tbody tr th:only-of-type {\n",
              "        vertical-align: middle;\n",
              "    }\n",
              "\n",
              "    .dataframe tbody tr th {\n",
              "        vertical-align: top;\n",
              "    }\n",
              "\n",
              "    .dataframe thead th {\n",
              "        text-align: right;\n",
              "    }\n",
              "</style>\n",
              "<table border=\"1\" class=\"dataframe\">\n",
              "  <thead>\n",
              "    <tr style=\"text-align: right;\">\n",
              "      <th></th>\n",
              "      <th>AGE</th>\n",
              "      <th>GENDER</th>\n",
              "      <th>COURSE</th>\n",
              "      <th>YEAR</th>\n",
              "      <th>CITY</th>\n",
              "      <th>FAMILY STATUS</th>\n",
              "      <th>MOTHER'S EDUCATION</th>\n",
              "      <th>FATHER'S EDUCATION</th>\n",
              "      <th>MONTHLY INCOME</th>\n",
              "      <th>MENTAL DISORDER HISTORY</th>\n",
              "      <th>...</th>\n",
              "      <th>Q6</th>\n",
              "      <th>Q7</th>\n",
              "      <th>Q8</th>\n",
              "      <th>Q9</th>\n",
              "      <th>Q10</th>\n",
              "      <th>Q11</th>\n",
              "      <th>Q12</th>\n",
              "      <th>Q13</th>\n",
              "      <th>Q14</th>\n",
              "      <th>Mental State</th>\n",
              "    </tr>\n",
              "  </thead>\n",
              "  <tbody>\n",
              "    <tr>\n",
              "      <th>0</th>\n",
              "      <td>21</td>\n",
              "      <td>1</td>\n",
              "      <td>11</td>\n",
              "      <td>3</td>\n",
              "      <td>6</td>\n",
              "      <td>0</td>\n",
              "      <td>0</td>\n",
              "      <td>0</td>\n",
              "      <td>7</td>\n",
              "      <td>0</td>\n",
              "      <td>...</td>\n",
              "      <td>3</td>\n",
              "      <td>2</td>\n",
              "      <td>2</td>\n",
              "      <td>0</td>\n",
              "      <td>0</td>\n",
              "      <td>2</td>\n",
              "      <td>0</td>\n",
              "      <td>3</td>\n",
              "      <td>3</td>\n",
              "      <td>2.75</td>\n",
              "    </tr>\n",
              "    <tr>\n",
              "      <th>1</th>\n",
              "      <td>21</td>\n",
              "      <td>0</td>\n",
              "      <td>24</td>\n",
              "      <td>3</td>\n",
              "      <td>10</td>\n",
              "      <td>0</td>\n",
              "      <td>2</td>\n",
              "      <td>2</td>\n",
              "      <td>7</td>\n",
              "      <td>0</td>\n",
              "      <td>...</td>\n",
              "      <td>3</td>\n",
              "      <td>4</td>\n",
              "      <td>4</td>\n",
              "      <td>1</td>\n",
              "      <td>2</td>\n",
              "      <td>2</td>\n",
              "      <td>1</td>\n",
              "      <td>4</td>\n",
              "      <td>3</td>\n",
              "      <td>2.62</td>\n",
              "    </tr>\n",
              "    <tr>\n",
              "      <th>2</th>\n",
              "      <td>23</td>\n",
              "      <td>1</td>\n",
              "      <td>2</td>\n",
              "      <td>2</td>\n",
              "      <td>4</td>\n",
              "      <td>1</td>\n",
              "      <td>1</td>\n",
              "      <td>1</td>\n",
              "      <td>6</td>\n",
              "      <td>0</td>\n",
              "      <td>...</td>\n",
              "      <td>3</td>\n",
              "      <td>0</td>\n",
              "      <td>0</td>\n",
              "      <td>0</td>\n",
              "      <td>2</td>\n",
              "      <td>2</td>\n",
              "      <td>0</td>\n",
              "      <td>1</td>\n",
              "      <td>3</td>\n",
              "      <td>2.50</td>\n",
              "    </tr>\n",
              "    <tr>\n",
              "      <th>3</th>\n",
              "      <td>20</td>\n",
              "      <td>0</td>\n",
              "      <td>0</td>\n",
              "      <td>3</td>\n",
              "      <td>8</td>\n",
              "      <td>0</td>\n",
              "      <td>0</td>\n",
              "      <td>1</td>\n",
              "      <td>6</td>\n",
              "      <td>0</td>\n",
              "      <td>...</td>\n",
              "      <td>4</td>\n",
              "      <td>0</td>\n",
              "      <td>0</td>\n",
              "      <td>2</td>\n",
              "      <td>2</td>\n",
              "      <td>1</td>\n",
              "      <td>1</td>\n",
              "      <td>4</td>\n",
              "      <td>2</td>\n",
              "      <td>2.38</td>\n",
              "    </tr>\n",
              "    <tr>\n",
              "      <th>4</th>\n",
              "      <td>21</td>\n",
              "      <td>0</td>\n",
              "      <td>21</td>\n",
              "      <td>3</td>\n",
              "      <td>6</td>\n",
              "      <td>1</td>\n",
              "      <td>2</td>\n",
              "      <td>0</td>\n",
              "      <td>0</td>\n",
              "      <td>0</td>\n",
              "      <td>...</td>\n",
              "      <td>2</td>\n",
              "      <td>4</td>\n",
              "      <td>4</td>\n",
              "      <td>0</td>\n",
              "      <td>2</td>\n",
              "      <td>2</td>\n",
              "      <td>0</td>\n",
              "      <td>4</td>\n",
              "      <td>2</td>\n",
              "      <td>2.38</td>\n",
              "    </tr>\n",
              "  </tbody>\n",
              "</table>\n",
              "<p>5 rows × 25 columns</p>\n",
              "</div>\n",
              "      <button class=\"colab-df-convert\" onclick=\"convertToInteractive('df-cdf60221-38e0-4bb1-ab39-d65d902c5875')\"\n",
              "              title=\"Convert this dataframe to an interactive table.\"\n",
              "              style=\"display:none;\">\n",
              "        \n",
              "  <svg xmlns=\"http://www.w3.org/2000/svg\" height=\"24px\"viewBox=\"0 0 24 24\"\n",
              "       width=\"24px\">\n",
              "    <path d=\"M0 0h24v24H0V0z\" fill=\"none\"/>\n",
              "    <path d=\"M18.56 5.44l.94 2.06.94-2.06 2.06-.94-2.06-.94-.94-2.06-.94 2.06-2.06.94zm-11 1L8.5 8.5l.94-2.06 2.06-.94-2.06-.94L8.5 2.5l-.94 2.06-2.06.94zm10 10l.94 2.06.94-2.06 2.06-.94-2.06-.94-.94-2.06-.94 2.06-2.06.94z\"/><path d=\"M17.41 7.96l-1.37-1.37c-.4-.4-.92-.59-1.43-.59-.52 0-1.04.2-1.43.59L10.3 9.45l-7.72 7.72c-.78.78-.78 2.05 0 2.83L4 21.41c.39.39.9.59 1.41.59.51 0 1.02-.2 1.41-.59l7.78-7.78 2.81-2.81c.8-.78.8-2.07 0-2.86zM5.41 20L4 18.59l7.72-7.72 1.47 1.35L5.41 20z\"/>\n",
              "  </svg>\n",
              "      </button>\n",
              "      \n",
              "  <style>\n",
              "    .colab-df-container {\n",
              "      display:flex;\n",
              "      flex-wrap:wrap;\n",
              "      gap: 12px;\n",
              "    }\n",
              "\n",
              "    .colab-df-convert {\n",
              "      background-color: #E8F0FE;\n",
              "      border: none;\n",
              "      border-radius: 50%;\n",
              "      cursor: pointer;\n",
              "      display: none;\n",
              "      fill: #1967D2;\n",
              "      height: 32px;\n",
              "      padding: 0 0 0 0;\n",
              "      width: 32px;\n",
              "    }\n",
              "\n",
              "    .colab-df-convert:hover {\n",
              "      background-color: #E2EBFA;\n",
              "      box-shadow: 0px 1px 2px rgba(60, 64, 67, 0.3), 0px 1px 3px 1px rgba(60, 64, 67, 0.15);\n",
              "      fill: #174EA6;\n",
              "    }\n",
              "\n",
              "    [theme=dark] .colab-df-convert {\n",
              "      background-color: #3B4455;\n",
              "      fill: #D2E3FC;\n",
              "    }\n",
              "\n",
              "    [theme=dark] .colab-df-convert:hover {\n",
              "      background-color: #434B5C;\n",
              "      box-shadow: 0px 1px 3px 1px rgba(0, 0, 0, 0.15);\n",
              "      filter: drop-shadow(0px 1px 2px rgba(0, 0, 0, 0.3));\n",
              "      fill: #FFFFFF;\n",
              "    }\n",
              "  </style>\n",
              "\n",
              "      <script>\n",
              "        const buttonEl =\n",
              "          document.querySelector('#df-cdf60221-38e0-4bb1-ab39-d65d902c5875 button.colab-df-convert');\n",
              "        buttonEl.style.display =\n",
              "          google.colab.kernel.accessAllowed ? 'block' : 'none';\n",
              "\n",
              "        async function convertToInteractive(key) {\n",
              "          const element = document.querySelector('#df-cdf60221-38e0-4bb1-ab39-d65d902c5875');\n",
              "          const dataTable =\n",
              "            await google.colab.kernel.invokeFunction('convertToInteractive',\n",
              "                                                     [key], {});\n",
              "          if (!dataTable) return;\n",
              "\n",
              "          const docLinkHtml = 'Like what you see? Visit the ' +\n",
              "            '<a target=\"_blank\" href=https://colab.research.google.com/notebooks/data_table.ipynb>data table notebook</a>'\n",
              "            + ' to learn more about interactive tables.';\n",
              "          element.innerHTML = '';\n",
              "          dataTable['output_type'] = 'display_data';\n",
              "          await google.colab.output.renderOutput(dataTable, element);\n",
              "          const docLink = document.createElement('div');\n",
              "          docLink.innerHTML = docLinkHtml;\n",
              "          element.appendChild(docLink);\n",
              "        }\n",
              "      </script>\n",
              "    </div>\n",
              "  </div>\n",
              "  "
            ]
          },
          "metadata": {},
          "execution_count": 13
        }
      ]
    },
    {
      "cell_type": "markdown",
      "source": [
        "D. Visualization of the Data"
      ],
      "metadata": {
        "id": "mybbc38Mv64r"
      }
    },
    {
      "cell_type": "markdown",
      "source": [
        "SCATTER PLOT"
      ],
      "metadata": {
        "id": "a94jGmVOaV4M"
      }
    },
    {
      "cell_type": "code",
      "source": [
        "plt.scatter(df['MONTHLY INCOME'], df['Mental State'], color='green')\n",
        "plt.title('MONTHLY INCOME Vs MENTAL STATE', fontsize=14)\n",
        "plt.xlabel('MONTHLY INCOME', fontsize=14)\n",
        "plt.ylabel('Mental State', fontsize=14)\n",
        "plt.grid(True)\n",
        "plt.show()"
      ],
      "metadata": {
        "colab": {
          "base_uri": "https://localhost:8080/",
          "height": 300
        },
        "id": "IELLcC6cWs04",
        "outputId": "5893b77f-8b97-462a-9e09-ea3425a134c1"
      },
      "execution_count": null,
      "outputs": [
        {
          "output_type": "display_data",
          "data": {
            "text/plain": [
              "<Figure size 432x288 with 1 Axes>"
            ],
            "image/png": "[encoded data removed]"
          },
          "metadata": {
            "needs_background": "light"
          }
        }
      ]
    },
    {
      "cell_type": "markdown",
      "source": [
        "HISTOGRAM"
      ],
      "metadata": {
        "id": "QjMsi9A-aZXu"
      }
    },
    {
      "cell_type": "code",
      "source": [
        "plt.hist(df['Mental State'], bins=10, color='green')\n",
        "plt.title('HISTOGRAM FOR STUDENTS MENTAL STATE', fontsize=14)\n",
        "plt.xlabel('Mental State', fontsize=14)\n",
        "plt.ylabel('FREQUENCY', fontsize=14)\n",
        "plt.grid(True)\n",
        "plt.show()"
      ],
      "metadata": {
        "colab": {
          "base_uri": "https://localhost:8080/",
          "height": 300
        },
        "id": "YtOyKS-JZFTp",
        "outputId": "37ac8c9d-06fd-4943-e5f4-e9fe0be2f725"
      },
      "execution_count": null,
      "outputs": [
        {
          "output_type": "display_data",
          "data": {
            "text/plain": [
              "<Figure size 432x288 with 1 Axes>"
            ],
            "image/png": "[encoded data removed]"
          },
          "metadata": {
            "needs_background": "light"
          }
        }
      ]
    },
    {
      "cell_type": "markdown",
      "source": [
        "JOINT PLOT"
      ],
      "metadata": {
        "id": "f_f-Ax9ubMuS"
      }
    },
    {
      "cell_type": "markdown",
      "source": [
        "D. Setting the values for independent (X) variable and dependent (Y) variable"
      ],
      "metadata": {
        "id": "mPA9O6x8uNRO"
      }
    },
    {
      "cell_type": "code",
      "source": [
        "#assigning x and y\n",
        "x = df[['AGE','GENDER','COURSE','YEAR','CITY','FAMILY STATUS', \"MOTHER'S EDUCATION\", \"FATHER'S EDUCATION\", \"MONTHLY INCOME\",\n",
        "        \"MENTAL DISORDER HISTORY\", \"Q7\", \"Q8\", \"Q9\", \"Q11\", \"Q12\",]]\n",
        "y = df['Mental State']"
      ],
      "metadata": {
        "id": "ik0IhwJOuJVz"
      },
      "execution_count": null,
      "outputs": []
    },
    {
      "cell_type": "code",
      "source": [
        "#splitting the dataset\n",
        "from sklearn.model_selection import train_test_split\n",
        "\n",
        "X_train,X_test,y_train,y_test = train_test_split(x,y,test_size=0.30,random_state=0)"
      ],
      "metadata": {
        "id": "6Ymh6UElviX2"
      },
      "execution_count": null,
      "outputs": []
    },
    {
      "cell_type": "markdown",
      "source": [
        "E. Implementation of Model\n",
        "\n",
        "\n"
      ],
      "metadata": {
        "id": "L1E-ASkM4-XQ"
      }
    },
    {
      "cell_type": "code",
      "source": [
        "#Normalizing the data\n",
        "from sklearn.preprocessing import MinMaxScaler\n",
        "scaler = MinMaxScaler()\n",
        "x_scaled = scaler.fit_transform(x)"
      ],
      "metadata": {
        "id": "F9gTF7RdxaLl"
      },
      "execution_count": null,
      "outputs": []
    },
    {
      "cell_type": "code",
      "source": [
        "#fitting the Multiple Linear Regression model\n",
        "from sklearn.linear_model import LinearRegression\n",
        "mlr = LinearRegression()\n",
        "mlr.fit(x, y)"
      ],
      "metadata": {
        "colab": {
          "base_uri": "https://localhost:8080/"
        },
        "id": "72hJ5eHS1p1V",
        "outputId": "11a6b1fe-63e1-4506-cd2c-f2d87cffcadc"
      },
      "execution_count": null,
      "outputs": [
        {
          "output_type": "execute_result",
          "data": {
            "text/plain": [
              "LinearRegression()"
            ]
          },
          "metadata": {},
          "execution_count": 20
        }
      ]
    },
    {
      "cell_type": "code",
      "source": [
        "#Model Prediction\n",
        "y_pred_mlr = mlr.predict(X_test)"
      ],
      "metadata": {
        "id": "b9mx3rRBy8CW"
      },
      "execution_count": null,
      "outputs": []
    },
    {
      "cell_type": "code",
      "source": [
        "#intercept and coefficient\n",
        "print(\"Intercept: \", mlr.intercept_)\n",
        "print(\"Coefficients:\")\n",
        "list(zip(x, mlr.coef_))"
      ],
      "metadata": {
        "colab": {
          "base_uri": "https://localhost:8080/"
        },
        "id": "TrgWrJ6fMAN3",
        "outputId": "a87a4df3-b6fe-4b41-c091-ee01b35b9382"
      },
      "execution_count": null,
      "outputs": [
        {
          "output_type": "stream",
          "name": "stdout",
          "text": [
            "Intercept:  0.4188995602553178\n",
            "Coefficients:\n"
          ]
        },
        {
          "output_type": "execute_result",
          "data": {
            "text/plain": [
              "[('AGE', 0.08121747605100456),\n",
              " ('GENDER', -0.03368757489218768),\n",
              " ('COURSE', -0.012367008745163229),\n",
              " ('YEAR', 0.07684833288567976),\n",
              " ('CITY', 0.012312202635868942),\n",
              " ('FAMILY STATUS', 0.04457539142472538),\n",
              " (\"MOTHER'S EDUCATION\", -0.059199997818227997),\n",
              " (\"FATHER'S EDUCATION\", 0.007140059826426816),\n",
              " ('MONTHLY INCOME', -0.012234174471335763),\n",
              " ('MENTAL DISORDER HISTORY', 0.12195598169458012),\n",
              " ('Q7', 0.076780629843191),\n",
              " ('Q8', 0.021652533266664113),\n",
              " ('Q9', 0.20870911288314356),\n",
              " ('Q11', 0.1843461717966583),\n",
              " ('Q12', -0.16144828574682024)]"
            ]
          },
          "metadata": {},
          "execution_count": 22
        }
      ]
    },
    {
      "cell_type": "code",
      "source": [
        "#prediction of test set\n",
        "y_pred_mlr= mlr.predict(X_test)\n",
        "#predicted values\n",
        "print(\"Prediction for test set: {}\".format(y_pred_mlr))"
      ],
      "metadata": {
        "colab": {
          "base_uri": "https://localhost:8080/"
        },
        "id": "Kyw22dO_y7UK",
        "outputId": "a471b7f0-3380-4c84-b816-b740e9a91c19"
      },
      "execution_count": null,
      "outputs": [
        {
          "output_type": "stream",
          "name": "stdout",
          "text": [
            "Prediction for test set: [2.66466479 2.65286699 2.8348592  2.59458978 2.71922814 2.45021723\n",
            " 2.95280561 2.92505186 2.23141456 2.85777798 2.36210434 2.56628261\n",
            " 2.80566141 2.69563909 2.96599102 2.4682976 ]\n"
          ]
        }
      ]
    },
    {
      "cell_type": "code",
      "source": [
        "#Getting p-value per attribute\n",
        "import statsmodels.api as sm\n",
        "mod = sm.OLS(y,x)\n",
        "fii = mod.fit()\n",
        "p_values = fii.summary2().tables[1]['P>|t|']\n",
        "print(p_values)"
      ],
      "metadata": {
        "colab": {
          "base_uri": "https://localhost:8080/"
        },
        "id": "K87vId2IOW2-",
        "outputId": "fe47f010-4fcb-49d3-cac6-eb7ff3501c1c"
      },
      "execution_count": null,
      "outputs": [
        {
          "output_type": "stream",
          "name": "stdout",
          "text": [
            "AGE                        0.000012\n",
            "GENDER                     0.783764\n",
            "COURSE                     0.241630\n",
            "YEAR                       0.006366\n",
            "CITY                       0.412038\n",
            "FAMILY STATUS              0.650119\n",
            "MOTHER'S EDUCATION         0.490855\n",
            "FATHER'S EDUCATION         0.911118\n",
            "MONTHLY INCOME             0.614351\n",
            "MENTAL DISORDER HISTORY    0.623064\n",
            "Q7                         0.260556\n",
            "Q8                         0.767195\n",
            "Q9                         0.231468\n",
            "Q11                        0.276669\n",
            "Q12                        0.416867\n",
            "Name: P>|t|, dtype: float64\n"
          ]
        }
      ]
    },
    {
      "cell_type": "code",
      "source": [
        "#actual value and the predicted value\n",
        "mlr_diff = pd.DataFrame({'Actual value': y_test, 'Predicted value': y_pred_mlr})\n",
        "mlr_diff.head()"
      ],
      "metadata": {
        "colab": {
          "base_uri": "https://localhost:8080/",
          "height": 206
        },
        "id": "n-7S32arzAAm",
        "outputId": "84084cdb-6737-4602-ab0f-42d6f3aa80a9"
      },
      "execution_count": null,
      "outputs": [
        {
          "output_type": "execute_result",
          "data": {
            "text/plain": [
              "    Actual value  Predicted value\n",
              "28          2.75         2.664665\n",
              "37          2.38         2.652867\n",
              "11          2.38         2.834859\n",
              "34          3.00         2.594590\n",
              "2           2.50         2.719228"
            ],
            "text/html": [
              "\n",
              "  <div id=\"df-fa222d0c-84c4-431e-8a77-2f897b155cba\">\n",
              "    <div class=\"colab-df-container\">\n",
              "      <div>\n",
              "<style scoped>\n",
              "    .dataframe tbody tr th:only-of-type {\n",
              "        vertical-align: middle;\n",
              "    }\n",
              "\n",
              "    .dataframe tbody tr th {\n",
              "        vertical-align: top;\n",
              "    }\n",
              "\n",
              "    .dataframe thead th {\n",
              "        text-align: right;\n",
              "    }\n",
              "</style>\n",
              "<table border=\"1\" class=\"dataframe\">\n",
              "  <thead>\n",
              "    <tr style=\"text-align: right;\">\n",
              "      <th></th>\n",
              "      <th>Actual value</th>\n",
              "      <th>Predicted value</th>\n",
              "    </tr>\n",
              "  </thead>\n",
              "  <tbody>\n",
              "    <tr>\n",
              "      <th>28</th>\n",
              "      <td>2.75</td>\n",
              "      <td>2.664665</td>\n",
              "    </tr>\n",
              "    <tr>\n",
              "      <th>37</th>\n",
              "      <td>2.38</td>\n",
              "      <td>2.652867</td>\n",
              "    </tr>\n",
              "    <tr>\n",
              "      <th>11</th>\n",
              "      <td>2.38</td>\n",
              "      <td>2.834859</td>\n",
              "    </tr>\n",
              "    <tr>\n",
              "      <th>34</th>\n",
              "      <td>3.00</td>\n",
              "      <td>2.594590</td>\n",
              "    </tr>\n",
              "    <tr>\n",
              "      <th>2</th>\n",
              "      <td>2.50</td>\n",
              "      <td>2.719228</td>\n",
              "    </tr>\n",
              "  </tbody>\n",
              "</table>\n",
              "</div>\n",
              "      <button class=\"colab-df-convert\" onclick=\"convertToInteractive('df-fa222d0c-84c4-431e-8a77-2f897b155cba')\"\n",
              "              title=\"Convert this dataframe to an interactive table.\"\n",
              "              style=\"display:none;\">\n",
              "        \n",
              "  <svg xmlns=\"http://www.w3.org/2000/svg\" height=\"24px\"viewBox=\"0 0 24 24\"\n",
              "       width=\"24px\">\n",
              "    <path d=\"M0 0h24v24H0V0z\" fill=\"none\"/>\n",
              "    <path d=\"M18.56 5.44l.94 2.06.94-2.06 2.06-.94-2.06-.94-.94-2.06-.94 2.06-2.06.94zm-11 1L8.5 8.5l.94-2.06 2.06-.94-2.06-.94L8.5 2.5l-.94 2.06-2.06.94zm10 10l.94 2.06.94-2.06 2.06-.94-2.06-.94-.94-2.06-.94 2.06-2.06.94z\"/><path d=\"M17.41 7.96l-1.37-1.37c-.4-.4-.92-.59-1.43-.59-.52 0-1.04.2-1.43.59L10.3 9.45l-7.72 7.72c-.78.78-.78 2.05 0 2.83L4 21.41c.39.39.9.59 1.41.59.51 0 1.02-.2 1.41-.59l7.78-7.78 2.81-2.81c.8-.78.8-2.07 0-2.86zM5.41 20L4 18.59l7.72-7.72 1.47 1.35L5.41 20z\"/>\n",
              "  </svg>\n",
              "      </button>\n",
              "      \n",
              "  <style>\n",
              "    .colab-df-container {\n",
              "      display:flex;\n",
              "      flex-wrap:wrap;\n",
              "      gap: 12px;\n",
              "    }\n",
              "\n",
              "    .colab-df-convert {\n",
              "      background-color: #E8F0FE;\n",
              "      border: none;\n",
              "      border-radius: 50%;\n",
              "      cursor: pointer;\n",
              "      display: none;\n",
              "      fill: #1967D2;\n",
              "      height: 32px;\n",
              "      padding: 0 0 0 0;\n",
              "      width: 32px;\n",
              "    }\n",
              "\n",
              "    .colab-df-convert:hover {\n",
              "      background-color: #E2EBFA;\n",
              "      box-shadow: 0px 1px 2px rgba(60, 64, 67, 0.3), 0px 1px 3px 1px rgba(60, 64, 67, 0.15);\n",
              "      fill: #174EA6;\n",
              "    }\n",
              "\n",
              "    [theme=dark] .colab-df-convert {\n",
              "      background-color: #3B4455;\n",
              "      fill: #D2E3FC;\n",
              "    }\n",
              "\n",
              "    [theme=dark] .colab-df-convert:hover {\n",
              "      background-color: #434B5C;\n",
              "      box-shadow: 0px 1px 3px 1px rgba(0, 0, 0, 0.15);\n",
              "      filter: drop-shadow(0px 1px 2px rgba(0, 0, 0, 0.3));\n",
              "      fill: #FFFFFF;\n",
              "    }\n",
              "  </style>\n",
              "\n",
              "      <script>\n",
              "        const buttonEl =\n",
              "          document.querySelector('#df-fa222d0c-84c4-431e-8a77-2f897b155cba button.colab-df-convert');\n",
              "        buttonEl.style.display =\n",
              "          google.colab.kernel.accessAllowed ? 'block' : 'none';\n",
              "\n",
              "        async function convertToInteractive(key) {\n",
              "          const element = document.querySelector('#df-fa222d0c-84c4-431e-8a77-2f897b155cba');\n",
              "          const dataTable =\n",
              "            await google.colab.kernel.invokeFunction('convertToInteractive',\n",
              "                                                     [key], {});\n",
              "          if (!dataTable) return;\n",
              "\n",
              "          const docLinkHtml = 'Like what you see? Visit the ' +\n",
              "            '<a target=\"_blank\" href=https://colab.research.google.com/notebooks/data_table.ipynb>data table notebook</a>'\n",
              "            + ' to learn more about interactive tables.';\n",
              "          element.innerHTML = '';\n",
              "          dataTable['output_type'] = 'display_data';\n",
              "          await google.colab.output.renderOutput(dataTable, element);\n",
              "          const docLink = document.createElement('div');\n",
              "          docLink.innerHTML = docLinkHtml;\n",
              "          element.appendChild(docLink);\n",
              "        }\n",
              "      </script>\n",
              "    </div>\n",
              "  </div>\n",
              "  "
            ]
          },
          "metadata": {},
          "execution_count": 24
        }
      ]
    },
    {
      "cell_type": "code",
      "source": [
        "#Plotting the model\n",
        "plt.scatter(y_test, y_pred_mlr, c='crimson')\n",
        "plt.yscale('log')\n",
        "plt.xscale('log')\n",
        "\n",
        "p1 = max(max(y_pred_mlr), max(y_test))\n",
        "p2 = min(min(y_pred_mlr), min(y_test))\n",
        "plt.plot([p1, p2], [p1, p2], 'b-')\n",
        "plt.xlabel('True Values', fontsize=15)\n",
        "plt.ylabel('Predictions', fontsize=15)\n",
        "plt.axis('equal')\n",
        "plt.show()"
      ],
      "metadata": {
        "colab": {
          "base_uri": "https://localhost:8080/",
          "height": 287
        },
        "id": "uxx1hoKtMzk5",
        "outputId": "6e026ecb-4b34-43ff-dc1e-ceb276dcb93b"
      },
      "execution_count": null,
      "outputs": [
        {
          "output_type": "display_data",
          "data": {
            "text/plain": [
              "<Figure size 432x288 with 1 Axes>"
            ],
            "image/png": "[encoded data removed]"
          },
          "metadata": {
            "needs_background": "light"
          }
        }
      ]
    },
    {
      "cell_type": "markdown",
      "source": [
        "F. Implementation of Feature Importance"
      ],
      "metadata": {
        "id": "trKVyDDqT4xl"
      }
    },
    {
      "cell_type": "code",
      "source": [
        "importances = pd.DataFrame(data={\n",
        "    'Attribute': X_train.columns,\n",
        "    'Importance': mlr.coef_[10]\n",
        "})\n",
        "importances = importances.sort_values(by='Importance', ascending=False)"
      ],
      "metadata": {
        "id": "j8QfGMhrQdUv"
      },
      "execution_count": null,
      "outputs": []
    },
    {
      "cell_type": "code",
      "source": [
        "plt.bar(x=importances['Attribute'], height=importances['Importance'], color='#087E8B')\n",
        "plt.title('Feature importances obtained from coefficients', size=20)\n",
        "plt.xticks(rotation='vertical')\n",
        "plt.show()"
      ],
      "metadata": {
        "colab": {
          "base_uri": "https://localhost:8080/",
          "height": 418
        },
        "id": "wU_rPYSjMZ9N",
        "outputId": "ce5ef5f8-d125-4ce0-e1f9-6dbab3451f7e"
      },
      "execution_count": null,
      "outputs": [
        {
          "output_type": "display_data",
          "data": {
            "text/plain": [
              "<Figure size 432x288 with 1 Axes>"
            ],
            "image/png": "[encoded data removed]"
          },
          "metadata": {
            "needs_background": "light"
          }
        }
      ]
    },
    {
      "cell_type": "markdown",
      "source": [
        "G. Evaluation of the Model"
      ],
      "metadata": {
        "id": "AarhRxQsUGIp"
      }
    },
    {
      "cell_type": "code",
      "source": [
        "#model Evaluation\n",
        "from sklearn import metrics\n",
        "meanAbErr = metrics.mean_absolute_error(y_test, y_pred_mlr)\n",
        "meanSqErr = metrics.mean_squared_error(y_test, y_pred_mlr)\n",
        "rootMeanSqErr = np.sqrt(metrics.mean_squared_error(y_test, y_pred_mlr))\n",
        "print('R squared: {:.2f}'.format(mlr.score(x,y)*100))\n",
        "print('Mean Absolute Error:', meanAbErr)\n",
        "print('Mean Square Error:', meanSqErr)\n",
        "print('Root Mean Square Error:', rootMeanSqErr)"
      ],
      "metadata": {
        "colab": {
          "base_uri": "https://localhost:8080/"
        },
        "id": "jPKc1bieT3nI",
        "outputId": "581ee7f0-7e11-41b1-d16e-f77cd78890d2"
      },
      "execution_count": null,
      "outputs": [
        {
          "output_type": "stream",
          "name": "stdout",
          "text": [
            "R squared: 17.19\n",
            "Mean Absolute Error: 0.29842699982878784\n",
            "Mean Square Error: 0.16288166672157517\n",
            "Root Mean Square Error: 0.40358600907560604\n"
          ]
        }
      ]
    },
    {
      "cell_type": "markdown",
      "source": [
        "<h1>ANALYSIS:</h1>\n",
        "\n",
        "<b>Ho: There is a significant correlation between mental health of students and their family background.\n",
        "\n",
        "Ha: There is no correlation between mental health of students and their family background.</b>\n",
        "\n",
        "In this particular study, the main objective is to determine if there is a correlation between mental health of students and their family background. To achieve this, proponents utilized Multiple Linear Regression as the model to be fed by the dataset acquired from a questionnaire answered by students that belong to different socio-demographic groups. To begin the process, proponents then assigned the variable Mental State of the survey as the dependent variable and the rest as independent variables. To identify if the model is reliable, we used different measures of accuracy for evaluation.\n",
        "\n",
        "For the conclusion of the study, researchers found out that that family genealogy plays a contributing factor for student's mental health. Based on the p-value, it is observed that out of all the variables assigned as independent, Age and Year exhibits a value lower than 0.05. Which then leads the proponents to reject the alternative hypothesis and accept the null hypothesis - There is a significant correlation between mental health of students and their family background. As it was shown above, the predicted value is not consistent to the actual value. Meaning to say, student's mental health will either improve or worsen based on the condition of their family situation.\n"
      ],
      "metadata": {
        "id": "0xVN1cJgZ_2U"
      }
    }
  ]
}